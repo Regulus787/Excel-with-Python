{
  "nbformat": 4,
  "nbformat_minor": 0,
  "metadata": {
    "colab": {
      "provenance": []
    },
    "kernelspec": {
      "name": "python3",
      "display_name": "Python 3"
    },
    "language_info": {
      "name": "python"
    }
  },
  "cells": [
    {
      "cell_type": "markdown",
      "source": [
        "# Python으로 Excel 대체하기\n",
        "# Contents\n",
        "### 1. 출력\n",
        "### 2. 입력\n",
        "### 3. 조건\n",
        "### 4. 반복"
      ],
      "metadata": {
        "id": "d2XhJ7mbqVF4"
      }
    },
    {
      "cell_type": "markdown",
      "source": [
        "# 1. 출력\n",
        "\n",
        "출력문은 Terminal 화면에 표시할 수 있게 하는 함수입니다. 다양한 함수들이 있지만, 우리가 편히 그리고 대부분 쓰는 함수는 print()라는 함수입니다. print()함수를 쓰는 법은 다양하게 있습니다. 아래의 예시들을 참고하여 익히시면 됩니다.\n",
        "\n",
        "\n"
      ],
      "metadata": {
        "id": "YEyxGKMmOcPR"
      }
    },
    {
      "cell_type": "code",
      "source": [
        "print(\"Hello World\")\n",
        "print('Hello World')"
      ],
      "metadata": {
        "colab": {
          "base_uri": "https://localhost:8080/"
        },
        "id": "hJG7VBRYPFC7",
        "outputId": "b872514c-0453-4990-fcc7-024c2bf7be10"
      },
      "execution_count": null,
      "outputs": [
        {
          "output_type": "stream",
          "name": "stdout",
          "text": [
            "Hello World\n",
            "Hello World\n"
          ]
        }
      ]
    },
    {
      "cell_type": "markdown",
      "source": [
        "print()를 사용할 때 가장 대표적인 방법은 \" \"(쌍따움표) 또는 ' '(따움표)를 사용하여 띄우는 방식입니다. 이때에는 따움표 안에 들어가있는 문장 또는 숫자가 그대로 출력이 됩니다. 또한 print()를 연속으로 사용하게 되면, 다음 print()함수 안에 들어가 있는 내용들은 자동으로 다음줄에 표현됩니다."
      ],
      "metadata": {
        "id": "aXo0J7PfPI5N"
      }
    },
    {
      "cell_type": "code",
      "source": [
        "a=\"Hello World\"\n",
        "print(a)"
      ],
      "metadata": {
        "colab": {
          "base_uri": "https://localhost:8080/"
        },
        "id": "zjsPWFruQCRK",
        "outputId": "668fb6e9-5197-4f4a-b738-cac570f209c1"
      },
      "execution_count": null,
      "outputs": [
        {
          "output_type": "stream",
          "name": "stdout",
          "text": [
            "Hello World\n"
          ]
        }
      ]
    },
    {
      "cell_type": "markdown",
      "source": [
        "다음은 변수에 저장된 내용을 출력하는 방법 입니다. 위의 코드에서는 a라는 변수에 Hello Wolrd 라는 값을 저장 시켰습니다. 여기서 a라는 값을 출력하고 싶으면, print()안에 a값을 넣으면 됩니다. 하지만, 변수의 값을 지정하기 위해서는 따음표나 쌍따음표가 있으면 안 됩니다."
      ],
      "metadata": {
        "id": "JzCCoK8EQHo8"
      }
    },
    {
      "cell_type": "code",
      "source": [
        "a=1\n",
        "b=2\n",
        "print(a+b)"
      ],
      "metadata": {
        "colab": {
          "base_uri": "https://localhost:8080/"
        },
        "id": "uCYS6j5dQz-n",
        "outputId": "2f31f308-b840-41d3-f975-9d452927a651"
      },
      "execution_count": null,
      "outputs": [
        {
          "output_type": "stream",
          "name": "stdout",
          "text": [
            "3\n"
          ]
        }
      ]
    },
    {
      "cell_type": "markdown",
      "source": [
        "위의 코드는 a에 1을, b에 2를 저장시킨 후, print()내부에서 a와 b의 합을 출력하는 코드입니다. 이를 통해 print()내부에서도 연산이 가능하다는 점을 알 수 있습니다."
      ],
      "metadata": {
        "id": "pQrrNi7YQzmK"
      }
    },
    {
      "cell_type": "code",
      "source": [
        "a=1\n",
        "b=2\n",
        "c=a+b\n",
        "print(c)"
      ],
      "metadata": {
        "colab": {
          "base_uri": "https://localhost:8080/"
        },
        "id": "RK34ofE3RTZg",
        "outputId": "086a52c6-55f9-4f01-de05-43884d9267c0"
      },
      "execution_count": null,
      "outputs": [
        {
          "output_type": "stream",
          "name": "stdout",
          "text": [
            "3\n"
          ]
        }
      ]
    },
    {
      "cell_type": "markdown",
      "source": [
        "위의 코드는 a값에 1을, b값에 2를 c값에 a+b라는 함수를 저장시킨 후, c값을 출력하는 것을 보여줍니다. 이를 통해 알 수 있는 것은 변수에 함수 혹은 수식을 저장할 수 있다는 점입니다."
      ],
      "metadata": {
        "id": "nzVDUGS0RX-v"
      }
    },
    {
      "cell_type": "code",
      "source": [
        "a=1\n",
        "print(a)\n",
        "a=3\n",
        "print(a)\n",
        "a=a+1\n",
        "print(a)"
      ],
      "metadata": {
        "colab": {
          "base_uri": "https://localhost:8080/"
        },
        "id": "_E_T5hCxR1ix",
        "outputId": "d62b96fd-9b0d-4de0-fdbb-075bb540a578"
      },
      "execution_count": null,
      "outputs": [
        {
          "output_type": "stream",
          "name": "stdout",
          "text": [
            "1\n",
            "3\n",
            "4\n"
          ]
        }
      ]
    },
    {
      "cell_type": "markdown",
      "source": [
        "위의 코드에서 확인할 수 있듯이 변수의 값은 덮어쓰는 것이 가능합니다. 1번째 줄에서 a에 1을 저장하였을 때는 a값을 출력하였을 때, 1이 출력되는 것을 확인할 수 있지만, 그 후에 a에 3을 다시 저장하였을 때는 3이 나오는 것을 확인 할 수 있습니다. 마지막 줄 처럼, a값에 자기자시의 값에 더하기 1을 한 값을 다시 저장할 수 있습니다. 그리고 3+1의 값인 4가 출력되는 것을 확인할 수 있습니다."
      ],
      "metadata": {
        "id": "12kB3Q0QR7S9"
      }
    },
    {
      "cell_type": "code",
      "source": [
        "'''\n",
        "# 주석은 코드연산에 관여하지 않습니다.\n",
        "'''\n",
        "\n",
        "a=2\n",
        "# a=1\n",
        "print(a)\n"
      ],
      "metadata": {
        "colab": {
          "base_uri": "https://localhost:8080/"
        },
        "id": "MJbyABlOw3Ag",
        "outputId": "844d3172-0cb1-48db-8990-f702cf081da2"
      },
      "execution_count": null,
      "outputs": [
        {
          "output_type": "stream",
          "name": "stdout",
          "text": [
            "2\n"
          ]
        }
      ]
    },
    {
      "cell_type": "markdown",
      "source": [
        "출력문에서 마지막으로 배울 것은 주석입니다. 주석은 코드연산에 아무 관여를 하지 않으며, 코드를 설명할 때 사용합니다. 주석을 한줄만 할 때는 #을 사용하며, 여러 줄을 주석으로 만들고 싶을 때는 위와 같이 ''' ''' 사이에 작성합니다."
      ],
      "metadata": {
        "id": "aHpc-2apxLoo"
      }
    },
    {
      "cell_type": "markdown",
      "source": [
        "# 2. 입력\n",
        "\n",
        "입력문은 코드 외의 인터페이스에서 값을 입력받을 수 있게 하는 함수입니다. 다양한 함수들이 있지만, 우리가 편히 그리고 대부분 쓰는 함수는 input()라는 함수입니다. input()함수의 특징을 알아보겠습니다.\n",
        "\n"
      ],
      "metadata": {
        "id": "EdRh8y_xoXoc"
      }
    },
    {
      "cell_type": "code",
      "source": [
        "a=input()\n",
        "print(a)"
      ],
      "metadata": {
        "id": "RMFwynzC5jl8",
        "colab": {
          "base_uri": "https://localhost:8080/"
        },
        "outputId": "6d4608d0-8f10-4cad-ea8b-e3a3c2b5c7bf"
      },
      "execution_count": null,
      "outputs": [
        {
          "output_type": "stream",
          "name": "stdout",
          "text": [
            "mdfsaklmfmkasmfk\n",
            "mdfsaklmfmkasmfk\n"
          ]
        }
      ]
    },
    {
      "cell_type": "code",
      "source": [
        "a=input(\"값을 입력해주세요\")\n",
        "print(a)"
      ],
      "metadata": {
        "colab": {
          "base_uri": "https://localhost:8080/"
        },
        "id": "9dbT4rv7ovZc",
        "outputId": "d6a7843c-cddc-4db9-e21c-e2cfe0a83ce2"
      },
      "execution_count": null,
      "outputs": [
        {
          "output_type": "stream",
          "name": "stdout",
          "text": [
            "값을 입력해주세요123abc\n",
            "123abc\n"
          ]
        }
      ]
    },
    {
      "cell_type": "markdown",
      "source": [
        "값을 받을 때는 a라는 변수에 input() 값을 저장시켜주는 방식으로 진행됩니다. 만약에 값을 입력받을 때, 어떤 글을 띄어주고 싶다면, input()안 \" \"안에 적어주면 됩니다."
      ],
      "metadata": {
        "id": "nUB2nUQEo3nz"
      }
    },
    {
      "cell_type": "code",
      "source": [
        "a=input()\n",
        "print(type(a))"
      ],
      "metadata": {
        "colab": {
          "base_uri": "https://localhost:8080/"
        },
        "id": "AwvWsyQepNVF",
        "outputId": "23f3c9a4-1427-40db-c495-fdb5101fb8b7"
      },
      "execution_count": null,
      "outputs": [
        {
          "output_type": "stream",
          "name": "stdout",
          "text": [
            "12\n",
            "<class 'str'>\n"
          ]
        }
      ]
    },
    {
      "cell_type": "code",
      "source": [
        "a=input()\n",
        "b=input()\n",
        "print(a+b)"
      ],
      "metadata": {
        "colab": {
          "base_uri": "https://localhost:8080/"
        },
        "id": "Fps_xxamptVC",
        "outputId": "6d6c59c4-1982-48bd-c790-fbef57be4dc0"
      },
      "execution_count": null,
      "outputs": [
        {
          "output_type": "stream",
          "name": "stdout",
          "text": [
            "1\n",
            "2\n",
            "12\n"
          ]
        }
      ]
    },
    {
      "cell_type": "markdown",
      "source": [
        "input()을 통해 값을 받게 되면 값은 \"str\"이라는 데이터형태로 저장되는데, 이는 문자열이라는 뜻입니다. 문자열로 데이터를 받게 되면 연산이 불가능합니다. 그래서 값이 단순히 \"1\"과 \"2\"가 합쳐진 형태인 \"12\"로 나오는 것입니다. 연산을 위해서는 \"int\"라는 정수값이나 \"float\"라는 실수값으로 전환해주어야 합니다. 이렇게 해줄때는 아래와 같은 함수들을 사용합니다.\n",
        "\n",
        "```\n",
        "int(input())\n",
        "```\n",
        "\n",
        "```\n",
        "float(input())\n",
        "```"
      ],
      "metadata": {
        "id": "Qexm2qQSpM6f"
      }
    },
    {
      "cell_type": "code",
      "source": [
        "a=int(input())\n",
        "b=int(input())\n",
        "\n",
        "c=float(input())\n",
        "d=float(input())\n",
        "print(a+b)\n",
        "print(c+d)"
      ],
      "metadata": {
        "colab": {
          "base_uri": "https://localhost:8080/"
        },
        "id": "hMnuvc0fu4ll",
        "outputId": "012f589e-560e-4c3c-f722-3acddbd2677f"
      },
      "execution_count": null,
      "outputs": [
        {
          "output_type": "stream",
          "name": "stdout",
          "text": [
            "1\n",
            "2\n",
            "1\n",
            "2\n",
            "3\n",
            "3.0\n"
          ]
        }
      ]
    },
    {
      "cell_type": "markdown",
      "source": [
        "int()는 정수값을 의미하기 때문에 소수점이 보이지 않지만, float()는 실수 값을 의미하기 때문에 소수점이 있다는 것을 확인할 수 있습니다."
      ],
      "metadata": {
        "id": "ahswEsk2q30n"
      }
    },
    {
      "cell_type": "code",
      "source": [
        "a=3.99\n",
        "print(int(a))"
      ],
      "metadata": {
        "colab": {
          "base_uri": "https://localhost:8080/"
        },
        "id": "wfxYXigtxNx8",
        "outputId": "048f7c18-9e3f-4e24-fa1b-66f44046ef2a"
      },
      "execution_count": null,
      "outputs": [
        {
          "output_type": "stream",
          "name": "stdout",
          "text": [
            "3\n"
          ]
        }
      ]
    },
    {
      "cell_type": "markdown",
      "source": [
        "만약에 입력받은 값은 실수인데 int()에 넣게 되면 소수점은 절삭해서 보여지는 것을 확인할 수 있습니다."
      ],
      "metadata": {
        "id": "lL1eEOk8rHcP"
      }
    },
    {
      "cell_type": "markdown",
      "source": [
        "# 3. 조건\n",
        "\n",
        "조건문은 프로그램에서 특정 조건이 참(True) 또는 거짓(False)일 때 다른 코드 블록을 실행하도록 하는 구문입니다. 파이썬에서 가장 일반적인 조건문은 if, else, elif 키워드를 사용한 것입니다. if는 가장 먼저 조건문을 선언할 때 사용되고, elif는 다른 if조건을 선언할 때 사용되며, else는 나머지 일 때 사용되는 함수입니다."
      ],
      "metadata": {
        "id": "NEaiUaX2swFj"
      }
    },
    {
      "cell_type": "code",
      "source": [
        "a=int(input())\n",
        "b=int(input())\n",
        "\n",
        "if a>b:\n",
        "  a=a+1\n",
        "elif a==b:\n",
        "  a=a+2\n",
        "else:\n",
        "  a=a+3\n",
        "\n",
        "print(a)"
      ],
      "metadata": {
        "id": "utAKyoLj5lQ8",
        "colab": {
          "base_uri": "https://localhost:8080/"
        },
        "outputId": "4ca5ea86-a6f3-4ca7-ace7-af58a6fa6670"
      },
      "execution_count": null,
      "outputs": [
        {
          "output_type": "stream",
          "name": "stdout",
          "text": [
            "3\n",
            "4\n",
            "6\n"
          ]
        }
      ]
    },
    {
      "cell_type": "markdown",
      "source": [
        "위의 코드에서는 입력받은 a,b값을 통해 a값이 b값보다 작을 경우에는 a값에 1을 더하고, a값과 b값이 같을 경우에는 a에 2를 더하고, 마지막으로 그 외의 경우에는 a값에 3을 더하도록 하는 코드를 작성하였습니다."
      ],
      "metadata": {
        "id": "PJoTIVawvdyb"
      }
    },
    {
      "cell_type": "markdown",
      "source": [
        "# 4. 반복\n",
        "\n",
        "반복문은 동일한 블록이나 일련의 작업을 여러 번 반복하는 데 사용됩니다. 파이썬에서 가장 일반적인 반복문은 for와 while입니다. 먼저 for문 같은 것은 원하는 만큼 반복할 때 사용되며, while의 경우에는 조건문과 합쳐진 반복문이라고 생각하면 됩니다."
      ],
      "metadata": {
        "id": "VZiCxz13wLCB"
      }
    },
    {
      "cell_type": "code",
      "source": [
        "sum=0\n",
        "for i in range(100):\n",
        "  sum=sum+(i+1)\n",
        "print(sum)"
      ],
      "metadata": {
        "id": "R6f0kvPm5mDN",
        "colab": {
          "base_uri": "https://localhost:8080/"
        },
        "outputId": "c5741b18-f192-4c21-8fcf-20da269f7650"
      },
      "execution_count": null,
      "outputs": [
        {
          "output_type": "stream",
          "name": "stdout",
          "text": [
            "5050\n"
          ]
        }
      ]
    },
    {
      "cell_type": "markdown",
      "source": [
        "먼저 for문을 살펴보겠습니다. 위의 코드는 1부터 100까지 더하는 코드입니다. 먼저 sum을 0으로 선언해주고, for i in range(100)을 하므로써 i가 0부터 99까지 반복한다라는 것을 적어주었습니다. 그 다음줄에서는 sum=sum+(i+1)을 하여, sum값에 전에 sum값에 순서대로 합산해줄 수 있습니다.\n",
        "\n",
        "첫번째 반복해서는 i값은 0이고, sum값도 0입니다. 그래서 sum=0+(0+1)이기 때문에 처음 반복의 마지막 값은 sum=1이 될 것 입니다.\n",
        "\n",
        "두번째 반복해서는 i값은 1이고 sum 값은 1이기 때문에 sum=1+(1+1)이 되어 2번째 반복 후의 값은 sum=3이 될 것입니다.\n",
        "\n",
        "세번째 반복에서는 i값이 2이고 sum 값은 3이기 때문에 sum=3+(2+1)이 되어 sum값은 6이 될 것입니다.\n",
        "\n",
        "이렇듯 i가 99가 될 때까지 반복하게 되면 1부터 100까지의 합인 5050이 나오게 될 것 입니다."
      ],
      "metadata": {
        "id": "BjdSwKob3IyP"
      }
    },
    {
      "cell_type": "code",
      "source": [
        "a=0\n",
        "while a<=4:\n",
        "  print(a+1,\"번째 반복입니다.\")\n",
        "  a=a+1"
      ],
      "metadata": {
        "colab": {
          "base_uri": "https://localhost:8080/"
        },
        "id": "pfQxFkTayx64",
        "outputId": "c3eea113-54c6-4826-a792-c487ed9ac80d"
      },
      "execution_count": null,
      "outputs": [
        {
          "output_type": "stream",
          "name": "stdout",
          "text": [
            "1 번째 반복입니다.\n",
            "2 번째 반복입니다.\n",
            "3 번째 반복입니다.\n",
            "4 번째 반복입니다.\n",
            "5 번째 반복입니다.\n"
          ]
        }
      ]
    },
    {
      "cell_type": "markdown",
      "source": [
        "다음은 while문입니다. while문은 반복과 조건문이 합쳐진 형태입니다. 위의 코드는 a를 0으로 선언하고, a가 4와 같아지거나 작아질 때까지 반복하게 하는 코드입니다. a는 0부터 시작하기 때문에 a=1,2,3,4이렇게 올라갈 것이며, 5번 째 반복에서 a는 5가 되며 while 루프를 벗어나게 될 것 입니다."
      ],
      "metadata": {
        "id": "T_4i044XzG17"
      }
    }
  ]
}