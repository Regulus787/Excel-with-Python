{
  "nbformat": 4,
  "nbformat_minor": 0,
  "metadata": {
    "colab": {
      "provenance": []
    },
    "kernelspec": {
      "name": "python3",
      "display_name": "Python 3"
    },
    "language_info": {
      "name": "python"
    }
  },
  "cells": [
    {
      "cell_type": "markdown",
      "source": [
        "# 입력/출력/조건/반복문 예제 풀어보기\n",
        "\n",
        "목표: 프로그래밍의 기본인 입력/출력/조건/반복문에 익숙해지는 것"
      ],
      "metadata": {
        "id": "a4PVCSKpdBcn"
      }
    },
    {
      "cell_type": "markdown",
      "source": [
        "# Q1. N 찍기\n"
      ],
      "metadata": {
        "id": "tQ6q-wmydpr0"
      }
    },
    {
      "cell_type": "markdown",
      "source": [
        "자연수 N이 주어졌을 때, 1부터 N까지 한 줄에 한 숫자씩 출력하는 프로그램을 작성하시오.\n",
        "\n",
        "예시는 input값이 N이 5일 때, 출력은 아래와 같다.\n"
      ],
      "metadata": {
        "id": "Mk5Lgt9KbWXo"
      }
    },
    {
      "cell_type": "code",
      "execution_count": null,
      "metadata": {
        "colab": {
          "base_uri": "https://localhost:8080/"
        },
        "id": "vVlyD3FPc3o4",
        "outputId": "19546502-4aff-4900-cf1b-90292775d186"
      },
      "outputs": [
        {
          "output_type": "stream",
          "name": "stdout",
          "text": [
            "5\n",
            "1\n",
            "2\n",
            "3\n",
            "4\n",
            "5\n"
          ]
        }
      ],
      "source": [
        "N=int(input())\n",
        "for i in range(N):\n",
        "  print(i+1)"
      ]
    },
    {
      "cell_type": "markdown",
      "source": [
        "# Q2. 학점계산"
      ],
      "metadata": {
        "id": "sAtD1KwdeVY0"
      }
    },
    {
      "cell_type": "markdown",
      "source": [
        "어떤 사람의 학점이 주어졌을 때, 평점은 몇 점인지 출력하는 프로그램을 작성하세요.\n",
        "\n",
        "학점환산법은 아래와 같습니다.\n",
        "\n",
        "A+: 4.5, A0: 4.0\n",
        "\n",
        "B+: 3.5, B0: 3.0\n",
        "\n",
        "C+: 2.5, C0: 2.0\n",
        "\n",
        "D+: 1.5, D0: 1.0\n",
        "\n",
        "F: 0.0"
      ],
      "metadata": {
        "id": "FRFlW2uccXls"
      }
    },
    {
      "cell_type": "code",
      "source": [
        "grade=input()\n",
        "\n",
        "if grade[0] == 'A':\n",
        "  if grade[1]=='+':\n",
        "    print(4.3)\n",
        "  elif grade[1]=='0':\n",
        "    print(4.0)\n",
        "  elif grade[1]=='-':\n",
        "    print(3.7)\n",
        "\n",
        "elif grade[0] == 'B':\n",
        "  if grade[1]=='+':\n",
        "    print(3.3)\n",
        "  elif grade[1]=='0':\n",
        "    print(3.0)\n",
        "  elif grade[1]=='-':\n",
        "    print(2.7)\n",
        "\n",
        "elif grade[0] == 'C':\n",
        "  if grade[1]=='+':\n",
        "    print(2.3)\n",
        "  elif grade[1]=='0':\n",
        "    print(2.0)\n",
        "  elif grade[1]=='-':\n",
        "    print(1.7)\n",
        "\n",
        "elif grade[0] == 'D':\n",
        "  if grade[1]=='+':\n",
        "    print(1.3)\n",
        "  elif grade[1]=='0':\n",
        "    print(1.0)\n",
        "  elif grade[1]=='-':\n",
        "    print(0.7)\n",
        "\n",
        "else:\n",
        "  print(0.0)"
      ],
      "metadata": {
        "id": "SGAk4OsVj_C9",
        "colab": {
          "base_uri": "https://localhost:8080/"
        },
        "outputId": "27f8a123-cc63-4489-958e-299bff6b16fb"
      },
      "execution_count": null,
      "outputs": [
        {
          "output_type": "stream",
          "name": "stdout",
          "text": [
            "A+\n",
            "4.3\n"
          ]
        }
      ]
    },
    {
      "cell_type": "markdown",
      "source": [
        "딕셔너리라는 방법을 활용하면 아래와 같이 작성할 수 있다."
      ],
      "metadata": {
        "id": "l1QDx6_Qd9hG"
      }
    },
    {
      "cell_type": "code",
      "source": [
        "grade=input()\n",
        "score=0\n",
        "grades={'F':0.0,'D':1.0,'C':2.0,'B':3.0,'A':4.0}\n",
        "\n",
        "if grade[0] in grades:\n",
        "    score=grades[grade[0]]\n",
        "if len(grade)>1:\n",
        "  if grade[1]=='+':\n",
        "    score=score+0.3\n",
        "  elif grade[1]=='-':\n",
        "    score=score-0.3\n",
        "\n",
        "print(score)"
      ],
      "metadata": {
        "colab": {
          "base_uri": "https://localhost:8080/"
        },
        "id": "rID9OalPirbf",
        "outputId": "91a8acdf-9275-4be2-ccb5-c6c3b591af70"
      },
      "execution_count": null,
      "outputs": [
        {
          "output_type": "stream",
          "name": "stdout",
          "text": [
            "F0\n",
            "0.0\n"
          ]
        }
      ]
    },
    {
      "cell_type": "markdown",
      "source": [
        "# Q3. 검증수"
      ],
      "metadata": {
        "id": "-fFt__CrfIXW"
      }
    },
    {
      "cell_type": "markdown",
      "source": [
        "S전자에서는 제조하는 스마트폰마다 6자리의 고유번호를 매기는데, 고유번호의 처음 5자리에는 무작위 숫자가 들어가며, 마지막 자리에는 진품인지 가품인지 구별할 수 있게 검증수가 들어간다. 이 숫자는 고유번호의 처음 5자리에 들어가는 5개의 숫자를 각각 세제곱한 수의 합을 10으로 나눈 나머지라고 한다.만약, 고유번호의 1번째부터 5번째자리 숫자가 12345이면, 6번째로 오는 검증수로는 5가 올 것이다. 따라서 이 제품의 고유번호는 123455이다."
      ],
      "metadata": {
        "id": "olUYDYMjcu6_"
      }
    },
    {
      "cell_type": "code",
      "source": [
        "num1, num2, num3, num4, num5=map(int,input().split())\n",
        "qual=(num1**3+num2**3+num3**3+num4**3+num5**3)%10\n",
        "print(qual)"
      ],
      "metadata": {
        "colab": {
          "base_uri": "https://localhost:8080/"
        },
        "id": "lnqqPgJykWxr",
        "outputId": "e44cda5a-c945-498c-ca9f-3a1a5f6884db"
      },
      "execution_count": 2,
      "outputs": [
        {
          "output_type": "stream",
          "name": "stdout",
          "text": [
            "1 2 3 4 5\n",
            "5\n"
          ]
        }
      ]
    }
  ]
}